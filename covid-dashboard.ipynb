{
 "cells": [
  {
   "cell_type": "code",
   "execution_count": 1,
   "metadata": {},
   "outputs": [],
   "source": [
    "from uk_covid19 import Cov19API\n",
    "import json\n",
    "import pandas as pd\n",
    "import matplotlib.pyplot as plt\n",
    "import ipywidgets as wdg\n",
    "import numpy as np\n",
    "\n",
    "\n",
    "%matplotlib inline\n",
    "plt.rcParams['figure.dpi'] = 100\n"
   ]
  },
  {
   "cell_type": "code",
   "execution_count": 2,
   "metadata": {},
   "outputs": [],
   "source": [
    "def parse_date(datestring):\n",
    "    \"\"\" Convert a date string into a pandas datetime object \"\"\"\n",
    "    return pd.to_datetime(datestring, format=\"%Y-%m-%d\")"
   ]
  },
  {
   "cell_type": "markdown",
   "metadata": {},
   "source": [
    "THE LATEST COVID DATA FROM PUBLIC HEALTH ENGLAND"
   ]
  },
  {
   "cell_type": "code",
   "execution_count": null,
   "metadata": {},
   "outputs": [],
   "source": []
  },
  {
   "cell_type": "markdown",
   "metadata": {},
   "source": [
    "NEW CASES, HOSPITAL ADMISSIONS AND DEATHS"
   ]
  },
  {
   "cell_type": "code",
   "execution_count": 59,
   "metadata": {},
   "outputs": [
    {
     "data": {
      "application/vnd.jupyter.widget-view+json": {
       "model_id": "d0f3952efc4c4e27bc486cbbc54cf600",
       "version_major": 2,
       "version_minor": 0
      },
      "text/plain": [
       "HBox(children=(SelectMultiple(description='Stats:', index=(0, 1, 2), options=('cases', 'hospital', 'deaths'), …"
      ]
     },
     "metadata": {},
     "output_type": "display_data"
    },
    {
     "data": {
      "application/vnd.jupyter.widget-view+json": {
       "model_id": "a4b67fb2f5fa46e484f0a6b5687bd472",
       "version_major": 2,
       "version_minor": 0
      },
      "text/plain": [
       "Output()"
      ]
     },
     "metadata": {},
     "output_type": "display_data"
    },
    {
     "data": {
      "application/vnd.jupyter.widget-view+json": {
       "model_id": "176cb69c39bd439a8f6cf4fe41da7da3",
       "version_major": 2,
       "version_minor": 0
      },
      "text/plain": [
       "Button(description='Refresh data', icon='download', style=ButtonStyle(), tooltip='Click to download current Pu…"
      ]
     },
     "metadata": {},
     "output_type": "display_data"
    },
    {
     "name": "stdout",
     "output_type": "stream",
     "text": [
      "linear\n",
      "('linear', 'log')\n",
      "Refresh successful\n",
      "log\n",
      "('linear', 'log')\n",
      "Refresh successful\n"
     ]
    }
   ],
   "source": [
    "def timeseries_api():\n",
    "    filters = [\n",
    "        'areaType=overview' \n",
    "    ]\n",
    "\n",
    "    structure = {\n",
    "        \"date\": \"date\",\n",
    "        \"cases\": \"newCasesByPublishDate\",\n",
    "        \"hospital\": \"newAdmissions\",\n",
    "        \"deaths\": \"cumDeaths28DaysByDeathDateRate\"    \n",
    "    }\n",
    "\n",
    "    api = Cov19API(filters=filters, structure=structure)\n",
    "    timeSeries=api.get_json()\n",
    "\n",
    "    \n",
    "    with open(\"timeSeries.json\", \"wt\") as OUTF:\n",
    "        json.dump(timeSeries, OUTF)\n",
    "    \n",
    "    with open(\"timeSeries.json\", \"rt\") as INFILE:\n",
    "        timeSeriesData=json.load(INFILE)\n",
    "    \n",
    "    return timeSeriesData\n",
    "\n",
    "def wrangle_data_timeseries(rawdata):\n",
    "    timeSeriesDataList = rawdata['data']\n",
    "    \n",
    "    timeSeriesDates=[dictionary['date'] for dictionary in timeSeriesDataList]\n",
    "    timeSeriesDates.sort()\n",
    "\n",
    "    timeSeriesStartDate = parse_date(timeSeriesDates[0])\n",
    "    timeSeriesEndDate = parse_date(timeSeriesDates[-1])\n",
    "\n",
    "    index = pd.date_range(timeSeriesStartDate, timeSeriesEndDate, freq ='D')\n",
    "    timeSeriesDF = pd.DataFrame(index=index, columns = ['cases', 'hospital', 'deaths'])\n",
    "\n",
    "    for entry in timeSeriesDataList:\n",
    "        date=parse_date(entry['date'])\n",
    "        for column in ['cases', 'hospital', 'deaths']:\n",
    "            if pd.isna(timeSeriesDF.loc[date, column]): \n",
    "                value= float(entry[column]) if entry[column]!=None else 0.0\n",
    "                timeSeriesDF.loc[date, column]=value\n",
    "    timeSeriesDF.fillna(0.0, inplace=True)  \n",
    "    return timeSeriesDF\n",
    "\n",
    "series=wdg.SelectMultiple(\n",
    "    options=['cases', 'hospital', 'deaths'],\n",
    "    value=['cases', 'hospital', 'deaths'],\n",
    "    rows=3,\n",
    "    description='Stats:',\n",
    "    disabled=False\n",
    "    )\n",
    "\n",
    "scaleTimeseries=wdg.RadioButtons(\n",
    "    options=['linear', 'log'],\n",
    "    description='Scale:',\n",
    "    disabled=False\n",
    "    )\n",
    "\n",
    "controls=wdg.HBox([series, scaleTimeseries])\n",
    "\n",
    "def timeseries_graph(gcols, gscale):\n",
    "    if gscale=='linear':\n",
    "        logscale=False\n",
    "    else:\n",
    "        logscale=True\n",
    "    ncols=len(gcols)\n",
    "    if ncols>0:\n",
    "        timeSeriesDataFrame[list(gcols)].plot(logy=logscale)\n",
    "    else:\n",
    "        print(\"Click to select data for graph\")\n",
    "        print(\"(CTRL-Click to select more than one category)\")\n",
    "\n",
    "\n",
    "    \n",
    "with open(\"timeSeries.json\", \"rt\") as INFILE:\n",
    "        timeSeriesData=json.load(INFILE)\n",
    "        \n",
    "timeSeriesDataFrame = wrangle_data_timeseries(timeSeriesData);\n",
    "\n",
    "graph=wdg.interactive_output(timeseries_graph, {'gcols': series, 'gscale': scaleTimeseries})\n",
    "\n",
    "\n",
    "# stack series and scale on top of each other\n",
    "ctrls=wdg.HBox([series, scaleTimeseries])\n",
    "\n",
    "# put the graph and the controls side by side\n",
    "form=wdg.HBox([graph, ctrls])\n",
    "# Now form contains the entire interface\n",
    "# display(form)\n",
    "\n",
    "\n",
    "display(controls, graph)\n",
    "\n",
    "def refresh_timeseries(button):\n",
    "    def refresh_graph():\n",
    "        current = scaleTimeseries.value\n",
    "        if current == scaleTimeseries.options[0]:\n",
    "            other = scaleTimeseries.options[1]\n",
    "        else:\n",
    "            other = scaleTimeseries.options[0]\n",
    "        scaleTimeseries.value = other # forces the redraw\n",
    "        scaleTimeseries.value = current # now we can change it back   \n",
    "    \n",
    "    try:\n",
    "        rawdata = timeseries_api()\n",
    "        global timeSeriesDataFrame\n",
    "        timeSeriesDataFrame = wrangle_data_timeseries(rawdata);\n",
    "        refresh_graph()\n",
    "        \n",
    "        apibuttonSeries.icon=\"check\"\n",
    "        print('Refresh successful', flush = True)   \n",
    "    \n",
    "    except:\n",
    "        print('Refresh failed', flush = True)    \n",
    "    \n",
    "    \n",
    "apibuttonSeries=wdg.Button(\n",
    "    description='Refresh data',\n",
    "    disabled=False,\n",
    "    button_style='', \n",
    "    tooltip='Click to download current Public Health England data',\n",
    "    icon='download' \n",
    ")\n",
    "\n",
    "apibuttonSeries.on_click(refresh_timeseries)\n",
    "\n",
    "display(apibuttonSeries)"
   ]
  },
  {
   "cell_type": "markdown",
   "metadata": {},
   "source": []
  },
  {
   "cell_type": "code",
   "execution_count": 62,
   "metadata": {},
   "outputs": [
    {
     "data": {
      "application/vnd.jupyter.widget-view+json": {
       "model_id": "b358197e448a4a66a406685f3c34e436",
       "version_major": 2,
       "version_minor": 0
      },
      "text/plain": [
       "SelectMultiple(description='Sex', index=(0, 1, 2), options=('males', 'females', 'total'), rows=3, value=('male…"
      ]
     },
     "metadata": {},
     "output_type": "display_data"
    },
    {
     "data": {
      "application/vnd.jupyter.widget-view+json": {
       "model_id": "c7ec69fc92eb40a58f9959cc788e4b6e",
       "version_major": 2,
       "version_minor": 0
      },
      "text/plain": [
       "Output()"
      ]
     },
     "metadata": {},
     "output_type": "display_data"
    },
    {
     "data": {
      "application/vnd.jupyter.widget-view+json": {
       "model_id": "ab3a01af841c4b4a80b76b442610d3a3",
       "version_major": 2,
       "version_minor": 0
      },
      "text/plain": [
       "Button(description='Refresh data', icon='download', style=ButtonStyle(), tooltip='Click to download current Pu…"
      ]
     },
     "metadata": {},
     "output_type": "display_data"
    },
    {
     "name": "stdout",
     "output_type": "stream",
     "text": [
      "current ('males',)\n",
      "Refresh successful\n"
     ]
    }
   ],
   "source": [
    "def agedistribution_api():\n",
    "\n",
    "    filters = [\n",
    "    'areaType=nation',\n",
    "    'areaName=England'\n",
    "    ]\n",
    "\n",
    "\n",
    "    structure = {\n",
    "    \"males\": \"maleCases\",\n",
    "    \"females\": \"femaleCases\"\n",
    "    }\n",
    "\n",
    "    api = Cov19API(filters=filters, structure=structure)\n",
    "    ageDistribution=api.get_json()\n",
    "\n",
    "    with open(\"ageDistribution.json\", \"wt\") as OUTF:\n",
    "        json.dump(ageDistribution, OUTF)\n",
    "\n",
    "    with open(\"ageDistribution.json\", \"rt\") as INFILE:\n",
    "        ageDistributionData=json.load(INFILE)\n",
    "\n",
    "    return ageDistributionData\n",
    "\n",
    "\n",
    "\n",
    "\n",
    "def wrangle_data_agedistribution(rawData):\n",
    "\n",
    "    ageDistributionDataList = rawData['data']\n",
    "    \n",
    "    dataDic=rawData['data'][0]\n",
    "    \n",
    "    males=dataDic['males']\n",
    "    females=dataDic['females']\n",
    "\n",
    "    ageranges=[x['age'] for x in males] \n",
    "   \n",
    "    def min_age(agerange):\n",
    "\n",
    "        agerange=agerange.replace('+','') \n",
    "        start=agerange.split('_')[0]\n",
    "        return int(start)\n",
    "\n",
    "    ageranges.sort(key=min_age)\n",
    "    ageDataFrame=pd.DataFrame(index=ageranges, columns=['males','females', 'total'])\n",
    "\n",
    "    for entry in males: \n",
    "        ageband=entry['age'] \n",
    "        ageDataFrame.loc[ageband, 'males']=entry['value']\n",
    "\n",
    "    for entry in females:\n",
    "        ageband=entry['age']\n",
    "        ageDataFrame.loc[ageband, 'females']=entry['value']\n",
    "\n",
    "    ageDataFrame['total']=ageDataFrame['males']+ageDataFrame['females']\n",
    "    return ageDataFrame\n",
    "\n",
    "    \n",
    "def age_graph(graphcolumns):\n",
    "        ncols=len(graphcolumns)\n",
    "        if ncols>0:\n",
    "            ageDataFrame.plot(kind='bar', y=list(graphcolumns)) \n",
    "        else:\n",
    "            print(\"Click to select data for graph\")\n",
    "            print(\"(CTRL-Click to select more than one category)\")    \n",
    "\n",
    "agecols = wdg.SelectMultiple(\n",
    "    options=['males', 'females', 'total'], \n",
    "    value=['males','females', 'total'],\n",
    "    rows=3, \n",
    "    description='Sex',\n",
    "    disabled=False\n",
    "    )\n",
    "\n",
    "\n",
    "with open(\"ageDistribution.json\", \"rt\") as INFILE:\n",
    "       ageDistributionData=json.load(INFILE)\n",
    "        \n",
    "ageDataFrame = wrangle_data_agedistribution(ageDistributionData);\n",
    "\n",
    "graph=wdg.interactive_output(age_graph, {'graphcolumns': agecols})\n",
    "\n",
    "display(agecols, graph)\n",
    "\n",
    "def refresh_agedistribution(button):\n",
    "    def refresh_graph():\n",
    "        current = agecols.value\n",
    "        print('current', current)\n",
    "        if current == (agecols.options[0],agecols.options[1]):\n",
    "            other = (agecols.options[1],agecols.options[2])\n",
    "        else:\n",
    "            other = (agecols.options[0],agecols.options[1])\n",
    "        agecols.value = other # forces the redraw\n",
    "        agecols.value = current # now we can change it back   \n",
    "    \n",
    "    try:\n",
    "        rawData = agedistribution_api()\n",
    "        global ageDataFrame\n",
    "        ageDataFrame = wrangle_data_agedistribution(rawData);\n",
    "        refresh_graph()\n",
    "        apibuttonAge.icon=\"check\"\n",
    "        print('Refresh successful', flush = True)\n",
    "    \n",
    "    except:\n",
    "        print('Refresh failed', flush = True)\n",
    "    \n",
    "\n",
    "apibuttonAge=wdg.Button(\n",
    "    description='Refresh data',\n",
    "    disabled=False,\n",
    "    button_style='', \n",
    "    tooltip='Click to download current Public Health England data',\n",
    "    icon='download' \n",
    ")\n",
    "\n",
    "apibuttonAge.on_click(refresh_agedistribution)\n",
    "\n",
    "display(apibuttonAge)\n"
   ]
  },
  {
   "cell_type": "code",
   "execution_count": 48,
   "metadata": {
    "scrolled": true
   },
   "outputs": [
    {
     "data": {
      "application/vnd.jupyter.widget-view+json": {
       "model_id": "b253919e6882415aa4e457b8c7304db4",
       "version_major": 2,
       "version_minor": 0
      },
      "text/plain": [
       "HBox(children=(SelectMultiple(description='Stats:', index=(0, 1), options=('newAdmissions', 'occupiedBeds'), r…"
      ]
     },
     "metadata": {},
     "output_type": "display_data"
    },
    {
     "data": {
      "application/vnd.jupyter.widget-view+json": {
       "model_id": "17998b417e404f09979f3039d9e2217a",
       "version_major": 2,
       "version_minor": 0
      },
      "text/plain": [
       "Output()"
      ]
     },
     "metadata": {},
     "output_type": "display_data"
    },
    {
     "data": {
      "application/vnd.jupyter.widget-view+json": {
       "model_id": "3d2d5b9b9adb485dbd70d35cede028d1",
       "version_major": 2,
       "version_minor": 0
      },
      "text/plain": [
       "Button(description='Refresh data', icon='download', style=ButtonStyle(), tooltip='Click to download current Pu…"
      ]
     },
     "metadata": {},
     "output_type": "display_data"
    },
    {
     "name": "stdout",
     "output_type": "stream",
     "text": [
      "current linear\n",
      "options ('linear', 'log')\n",
      "Refresh successful\n",
      "current linear\n",
      "options ('linear', 'log')\n",
      "Refresh successful\n"
     ]
    }
   ],
   "source": [
    "def admissionsbeds_api():\n",
    "    filters = [\n",
    "        'areaType=nation',\n",
    "        'areaName=England'\n",
    "    ]\n",
    "\n",
    "\n",
    "    structure = {\n",
    "        \"date\":\"date\",\n",
    "        \"newAdmissions\":\"newAdmissions\",\n",
    "        \"occupiedBeds\":\"covidOccupiedMVBeds\"\n",
    "    }\n",
    "\n",
    "    api = Cov19API(filters=filters, structure=structure)\n",
    "    admissionsBeds=api.get_json()\n",
    "\n",
    "    with open(\"admissionsBeds.json\", \"wt\") as OUTF:\n",
    "        json.dump(admissionsBeds, OUTF)\n",
    "\n",
    "    with open(\"admissionsBeds.json\", \"rt\") as INFILE:\n",
    "        admissionsBedsData=json.load(INFILE)\n",
    "        \n",
    "    return admissionsBedsData\n",
    "        \n",
    "def wrangle_data_admissionsbeds(rawdata):   \n",
    "    admissionsBedsDataList = rawdata['data']\n",
    "\n",
    "    admissionsBedsDates=[dictionary['date'] for dictionary in admissionsBedsDataList]\n",
    "    admissionsBedsDates.sort()\n",
    "    admissionsBedsDates\n",
    "\n",
    "    admissionsBedsStartDate = parse_date(admissionsBedsDates[0])\n",
    "    admissionsBedsEndDate = parse_date(admissionsBedsDates[-1])\n",
    "\n",
    "    index = pd.date_range(admissionsBedsStartDate, admissionsBedsEndDate, freq ='D')\n",
    "    admissionsBedsDataFrame = pd.DataFrame(index=index, columns = ['newAdmissions', 'occupiedBeds'])\n",
    "\n",
    "    for entry in admissionsBedsDataList:\n",
    "        date=parse_date(entry['date'])\n",
    "        for column in ['newAdmissions', 'occupiedBeds']:\n",
    "            if pd.isna(admissionsBedsDataFrame.loc[date, column]): \n",
    "                value= float(entry[column]) if entry[column]!=None else 0.0\n",
    "                admissionsBedsDataFrame.loc[date, column]=value\n",
    "\n",
    "    admissionsBedsDataFrame.fillna(0.0, inplace=True)      \n",
    "    return admissionsBedsDataFrame\n",
    "\n",
    "def admissions_beds_graph(gcols, gscale):\n",
    "        if gscale=='linear':\n",
    "            logscale=False\n",
    "        else:\n",
    "            logscale=True\n",
    "        ncols=len(gcols)\n",
    "        if ncols>0:\n",
    "            admissionsBedsDataFrame[list(gcols)].plot(logy=logscale)\n",
    "        else:\n",
    "            print(\"Click to select data for graph\")\n",
    "            print(\"(CTRL-Click to select more than one category)\")\n",
    "\n",
    "\n",
    "admissions=wdg.SelectMultiple(\n",
    "    options=['newAdmissions','occupiedBeds'],\n",
    "    value=['newAdmissions','occupiedBeds'],\n",
    "    rows=2,\n",
    "    description='Stats:',\n",
    "    disabled=False\n",
    "    )\n",
    "\n",
    "scale=wdg.RadioButtons(\n",
    "    options=['linear', 'log'],\n",
    "    description='Scale:',\n",
    "    disabled=False\n",
    ")\n",
    "\n",
    "\n",
    "\n",
    "with open(\"admissionsBeds.json\", \"rt\") as INFILE:\n",
    "    admissionsBedsData=json.load(INFILE)\n",
    "\n",
    "admissionsBedsDataFrame = wrangle_data_admissionsbeds(admissionsBedsData)\n",
    "\n",
    "admissionsGraph=wdg.interactive_output(admissions_beds_graph, {'gcols': admissions, 'gscale': scale})\n",
    "\n",
    "admissionsControls=wdg.HBox([admissions, scale])\n",
    "\n",
    "display(admissionsControls, admissionsGraph)\n",
    "\n",
    "\n",
    "def refresh_admissionsbeds(button):\n",
    "    def refresh_graph():\n",
    "        current = scale.value\n",
    "        \n",
    "        if current == scale.options[0]:\n",
    "            other = scale.options[1]\n",
    "        else:\n",
    "            other = scale.options[0]\n",
    "        scale.value = other # forces the redraw\n",
    "        scale.value = current # now we can change it back   \n",
    "    \n",
    "    try:\n",
    "        rawData = admissionsbeds_api()\n",
    "        global ageDataFrame\n",
    "        admissionsBedsDataFrame = wrangle_data_admissionsbeds(rawData);\n",
    "        refresh_graph()\n",
    "        apibuttonBeds.icon=\"check\"\n",
    "        print('Refresh successful', flush = True)\n",
    "    \n",
    "    except:\n",
    "        print('Refresh failed', flush = True)\n",
    "    \n",
    "    \n",
    "\n",
    "apibuttonBeds=wdg.Button(\n",
    "    description='Refresh data',\n",
    "    disabled=False,\n",
    "    button_style='', \n",
    "    tooltip='Click to download current Public Health England data',\n",
    "    icon='download' \n",
    ")\n",
    "\n",
    "apibuttonBeds.on_click(refresh_admissionsbeds)\n",
    "\n",
    "display(apibuttonBeds)\n"
   ]
  },
  {
   "cell_type": "code",
   "execution_count": null,
   "metadata": {},
   "outputs": [],
   "source": []
  }
 ],
 "metadata": {
  "kernelspec": {
   "display_name": "Python 3",
   "language": "python",
   "name": "python3"
  },
  "language_info": {
   "codemirror_mode": {
    "name": "ipython",
    "version": 3
   },
   "file_extension": ".py",
   "mimetype": "text/x-python",
   "name": "python",
   "nbconvert_exporter": "python",
   "pygments_lexer": "ipython3",
   "version": "3.8.3"
  }
 },
 "nbformat": 4,
 "nbformat_minor": 4
}
